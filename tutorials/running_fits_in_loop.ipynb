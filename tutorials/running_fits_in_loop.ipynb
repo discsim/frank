{
 "cells": [
  {
   "cell_type": "markdown",
   "metadata": {},
   "source": [
    "# Testing the profile's sensitivity to hyperpriors: Running fits in a loop"
   ]
  },
  {
   "cell_type": "markdown",
   "metadata": {},
   "source": [
    "Here we'll use the AS 209 dataset from the [first tutorial](using_frank_as_library.ipynb) to examine the fitted brightness profile's sensitivity to hyperpriors. "
   ]
  },
  {
   "cell_type": "markdown",
   "metadata": {},
   "source": [
    "A better way to understand the uncertainty on the reconstructed profile is to compare fits with different choices of input parameters ($\\alpha$, $w_s$). Here we compare the default fit to one with $\\alpha$ close to 1, but a stronger smoothing of the power-spectrum."
   ]
  },
  {
   "cell_type": "code",
   "execution_count": 1,
   "metadata": {},
   "outputs": [
    {
     "ename": "NameError",
     "evalue": "name 'FrankFitter' is not defined",
     "output_type": "error",
     "traceback": [
      "\u001b[0;31m---------------------------------------------------------------------------\u001b[0m",
      "\u001b[0;31mNameError\u001b[0m                                 Traceback (most recent call last)",
      "\u001b[0;32m<ipython-input-1-48630d7f8a43>\u001b[0m in \u001b[0;36m<module>\u001b[0;34m()\u001b[0m\n\u001b[0;32m----> 1\u001b[0;31m \u001b[0mFF2\u001b[0m \u001b[0;34m=\u001b[0m \u001b[0mFrankFitter\u001b[0m\u001b[0;34m(\u001b[0m\u001b[0mRmax\u001b[0m\u001b[0;34m,\u001b[0m \u001b[0;36m300\u001b[0m\u001b[0;34m,\u001b[0m  \u001b[0mgeometry\u001b[0m\u001b[0;34m=\u001b[0m\u001b[0mgeometry\u001b[0m\u001b[0;34m,\u001b[0m \u001b[0malpha\u001b[0m\u001b[0;34m=\u001b[0m\u001b[0;36m1.0\u001b[0m\u001b[0;34m,\u001b[0m \u001b[0mweights_smooth\u001b[0m\u001b[0;34m=\u001b[0m\u001b[0;36m1.0\u001b[0m\u001b[0;34m)\u001b[0m\u001b[0;34m\u001b[0m\u001b[0;34m\u001b[0m\u001b[0m\n\u001b[0m\u001b[1;32m      2\u001b[0m \u001b[0;34m\u001b[0m\u001b[0m\n\u001b[1;32m      3\u001b[0m \u001b[0mfit2\u001b[0m \u001b[0;34m=\u001b[0m \u001b[0mFF2\u001b[0m\u001b[0;34m.\u001b[0m\u001b[0mfit\u001b[0m\u001b[0;34m(\u001b[0m\u001b[0mu\u001b[0m\u001b[0;34m,\u001b[0m \u001b[0mv\u001b[0m\u001b[0;34m,\u001b[0m \u001b[0mvis\u001b[0m\u001b[0;34m,\u001b[0m \u001b[0mweights\u001b[0m\u001b[0;34m)\u001b[0m\u001b[0;34m\u001b[0m\u001b[0;34m\u001b[0m\u001b[0m\n\u001b[1;32m      4\u001b[0m \u001b[0merr2\u001b[0m \u001b[0;34m=\u001b[0m \u001b[0mnp\u001b[0m\u001b[0;34m.\u001b[0m\u001b[0mdiag\u001b[0m\u001b[0;34m(\u001b[0m\u001b[0mfit2\u001b[0m\u001b[0;34m.\u001b[0m\u001b[0mcovariance\u001b[0m\u001b[0;34m)\u001b[0m\u001b[0;34m**\u001b[0m\u001b[0;36m0.5\u001b[0m\u001b[0;34m\u001b[0m\u001b[0;34m\u001b[0m\u001b[0m\n",
      "\u001b[0;31mNameError\u001b[0m: name 'FrankFitter' is not defined"
     ]
    }
   ],
   "source": [
    "FF2 = FrankFitter(Rmax, 300,  geometry=geometry, alpha=1.0, weights_smooth=1.0)\n",
    "\n",
    "fit2 = FF2.fit(u, v, vis, weights)\n",
    "err2 = np.diag(fit2.covariance)**0.5"
   ]
  },
  {
   "cell_type": "code",
   "execution_count": null,
   "metadata": {},
   "outputs": [],
   "source": [
    "Looking at the real-space profile we can see that the second fit has more wiggles on small scales, but also a larger errorbar"
   ]
  },
  {
   "cell_type": "code",
   "execution_count": null,
   "metadata": {},
   "outputs": [],
   "source": [
    "# Plot in real-space\n",
    "plt.figure(figsize=(14,6))\n",
    "\n",
    "plt.plot(fit2.r*rad_to_arcsec, fit2.mean, c='g', label='Frankenstein fit-2')\n",
    "plt.fill_between(best_fit.r*rad_to_arcsec, fit2.mean-err2, fit2.mean+err2, color='g', alpha=0.5)\n",
    "\n",
    "plt.plot(best_fit.r*rad_to_arcsec, best_fit.mean, c='k', label='Frankenstein fit-1')\n",
    "plt.fill_between(best_fit.r*rad_to_arcsec, best_fit.mean-err, best_fit.mean+err, color='k', alpha=0.5)\n",
    "\n",
    "plt.plot(AS209_profile.r*rad_to_arcsec, AS209_profile.Inu, c='r', label='CLEAN')\n",
    "\n",
    "plt.xlabel('r [arcsec]')\n",
    "plt.ylabel('I(r) [Jy / arcsec${^2}$]')\n",
    "plt.axhline(0, c='0.5', ls='--')\n",
    "plt.xscale('linear')\n",
    "plt.xlim(0, 1.6)\n",
    "plt.legend()\n",
    "\n",
    "# Plot in log-space\n",
    "plt.figure(figsize=(14,6))\n",
    "\n",
    "plot_log_abs(fit2.r*rad_to_arcsec, fit2.mean, c='g', label='Frankenstein fit-2')\n",
    "plt.fill_between(fit2.r*rad_to_arcsec, fit2.mean-err2, fit2.mean+err2, color='g', alpha=0.5)\n",
    "plt.fill_between(fit2.r*rad_to_arcsec, -fit2.mean-err2, -fit2.mean+err2, color='g', alpha=0.5)\n",
    "\n",
    "plot_log_abs(best_fit.r*rad_to_arcsec, best_fit.mean, c='k', label='Frankenstein fit-1')\n",
    "plt.fill_between(best_fit.r*rad_to_arcsec, best_fit.mean-err, best_fit.mean+err, color='k', alpha=0.5)\n",
    "plt.fill_between(best_fit.r*rad_to_arcsec, -best_fit.mean-err, -best_fit.mean+err, color='k', alpha=0.5)\n",
    "\n",
    "plot_log_abs(AS209_profile.r*rad_to_arcsec, AS209_profile.Inu, c='r', label='CLEAN')\n",
    "\n",
    "plt.xlabel('r [arcsec]')\n",
    "plt.ylabel('I(r) [Jy / arcsec${^2}$]')\n",
    "plt.axhline(0, c='0.5', ls='--')\n",
    "plt.ylim(ymin=3e-4*best_fit.mean.max())\n",
    "plt.xscale('linear')\n",
    "plt.xlim(0, 1.6)\n",
    "plt.legend()"
   ]
  },
  {
   "cell_type": "code",
   "execution_count": null,
   "metadata": {},
   "outputs": [],
   "source": [
    "Comparing these in visibility-space you can see that the reason the second fit has more wiggles is that its attempting to fit out longer baseline, where the data is noisy.\n",
    "\n",
    "However, its worth noting that even this fit is not attemting to fully fit these data, as the reconstructed visibility amplitudes are lower than the observed visibilities for both fits."
   ]
  },
  {
   "cell_type": "code",
   "execution_count": null,
   "metadata": {},
   "outputs": [],
   "source": [
    "# Plot the visibilies\n",
    "plt.figure(figsize=(14,6))\n",
    "\n",
    "l = plt.errorbar(uv_bin, vis_bin, yerr=w_bin**-0.5,marker='+', ls='none', c='r', label='binned', zorder=-1)\n",
    "plt.errorbar(uv_bin, -vis_bin, yerr=w_bin**-0.5,marker='x', ls='none', c='b', zorder=-1)\n",
    "\n",
    "ki = np.logspace(np.log10(min(uv.min(), best_fit.q[ 0])) - 0.3, \n",
    "                 np.log10(max(uv.max(), best_fit.q[-1])) + 0.0,\n",
    "                 10**4)\n",
    "\n",
    "plot_log_abs(ki, fit2.predict_deprojected(ki), c='g', label='Frankenstein fit 2')\n",
    "plot_log_abs(ki, best_fit.predict_deprojected(ki),  c='k', label='Frankenstein fit 1')\n",
    "\n",
    "plt.legend()\n",
    "plt.xlabel('baseline [$\\lambda$]')\n",
    "plt.ylabel('Visibility [Jy]')\n",
    "plt.ylim(ymin=1e-5)"
   ]
  },
  {
   "cell_type": "code",
   "execution_count": null,
   "metadata": {},
   "outputs": [],
   "source": [
    "To appreciate why the two fits are behaving as they do, it is useful to look the power-spectrum coefficients, $p$, of the the two fits. \n",
    "\n",
    "In the first fit the smoothing strength, $w_s$, is weaker while $\\alpha$ is higher. The lower smoothing strengths means that $p$ shows more wiggles where the signal-to-noise of the data is good. This is because the weak smoothing allows some small scale variation in the power-spectrum.\n",
    "\n",
    "Below we interpret why these choices have the effects they do."
   ]
  },
  {
   "cell_type": "code",
   "execution_count": null,
   "metadata": {},
   "outputs": [],
   "source": [
    "plt.figure(figsize=(14,6))\n",
    "\n",
    "plt.loglog(best_fit.q, best_fit.power_spectrum, c='k', label='Frankenstein fit 1')\n",
    "plt.loglog(fit2.q, fit2.power_spectrum, c='g', label='Frankenstein fit 2')\n",
    "\n",
    "plt.legend()\n",
    "plt.xlabel('baseline [$\\lambda$]')\n",
    "plt.ylabel('Power spectrum coefficient')"
   ]
  }
 ],
 "metadata": {
  "anaconda-cloud": {},
  "kernelspec": {
   "display_name": "Python [default]",
   "language": "python",
   "name": "python3"
  },
  "language_info": {
   "codemirror_mode": {
    "name": "ipython",
    "version": 3
   },
   "file_extension": ".py",
   "mimetype": "text/x-python",
   "name": "python",
   "nbconvert_exporter": "python",
   "pygments_lexer": "ipython3",
   "version": "3.6.7"
  }
 },
 "nbformat": 4,
 "nbformat_minor": 2
}
