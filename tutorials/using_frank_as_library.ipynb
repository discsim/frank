{
 "cells": [
  {
   "cell_type": "markdown",
   "metadata": {},
   "source": [
    "# Using frank as a library: The fitting procedure in detail"
   ]
  },
  {
   "cell_type": "markdown",
   "metadata": {},
   "source": [
    "To give further insight into the fitting process in <font color=green>Frankenstein</font> (`frank`) and how you can modify it, here we'll use the code as a library and perform the same fit process in the [Quickstart](quickstart.rst), just in more detail.\n",
    "\n",
    "We'll keep the DSHARP continuum observations of AS 209 ([Andrews et al. 2018](https://ui.adsabs.harvard.edu/abs/2018ApJ...869L..41A/abstract)) as the input dataset, and frank will reconstruct the disc's 1D radial brightness profile by nonparametrically fitting the real component of the visibility distribution. \n",
    "\n",
    "Specifically frank will perform 4 steps in the fit, which we'll break into distinct calls (these are the steps taken in `fit.py`): \n",
    "\n",
    "1. Read in the data (UVTable) and parse the *.json* parameter file; \n",
    "\n",
    "2. Determine the disc geometry (inclination, position angle and phase offset), then deproject the visibilities;\n",
    "\n",
    "3. Fit the deprojected visibilities with a Gaussian process (~10 s) to yield a brightness profile;\n",
    "\n",
    "4. Save the results: the brightness profile fit, visibility domain fit, UVtables with the **reprojected** fit and residuals between the input datafile and the reprojected fit, and a figure showing the fit and diagnostics. We'll also supply a CLEAN brightness profile for the disc as well as the synthesized CLEAN beam parameters, allowing frank to compare his fit to the CLEAN fit by:\n",
    "\n",
    "    - Convolving the fitted frank brightness profile with the synthesized beam to compare to the CLEAN profile and\n",
    "    \n",
    "    - Taking the discrete Hankel transform of the CLEAN profile to compare to the frank visibility domain fit.\n",
    "    \n",
    "Let's walk through these."
   ]
  },
  {
   "cell_type": "markdown",
   "metadata": {},
   "source": [
    "## 1. Read in the data and parameter values"
   ]
  },
  {
   "cell_type": "markdown",
   "metadata": {},
   "source": [
    "First import the goods. As in the library example in the [Quickstart](quickstart.rst), we're importing the internal classes [FrankFitter](https://github.com/discsim/frankenstein/blob/master/docs/_build/html/py_API.html#frankenstein.radial_fitters.FrankFitter) and [FitGeometryGaussian](https://github.com/discsim/frankenstein/blob/master/docs/_build/html/py_API.html#frankenstein.geometry.FitGeometryGaussian) directly in order to demonstrate their usage. Just note that `fit.py` uses the wrapper functions `deproject_disc` and `perform_fit` to call these."
   ]
  },
  {
   "cell_type": "code",
   "execution_count": 1,
   "metadata": {
    "scrolled": true
   },
   "outputs": [],
   "source": [
    "%matplotlib inline\n",
    "\n",
    "from frankenstein.constants import rad_to_arcsec\n",
    "from frankenstein.radial_fitters import FrankFitter\n",
    "from frankenstein.geometry import FitGeometryGaussian\n",
    "from frankenstein.fit import parse_parameters, load_uvdata, output_results"
   ]
  },
  {
   "cell_type": "markdown",
   "metadata": {},
   "source": [
    "Using a UVTable extracted from an MSTable (see [xx](xx.xx) for how to do this) and the default parameter file `default_parameters.json`, we read both in."
   ]
  },
  {
   "cell_type": "code",
   "execution_count": 3,
   "metadata": {},
   "outputs": [
    {
     "ename": "TypeError",
     "evalue": "parse_parameters() missing 1 required positional argument: 'parameter_file'",
     "output_type": "error",
     "traceback": [
      "\u001b[0;31m---------------------------------------------------------------------------\u001b[0m",
      "\u001b[0;31mTypeError\u001b[0m                                 Traceback (most recent call last)",
      "\u001b[0;32m<ipython-input-3-fee9abcd3654>\u001b[0m in \u001b[0;36m<module>\u001b[0;34m()\u001b[0m\n\u001b[1;32m      1\u001b[0m \u001b[0;32mimport\u001b[0m \u001b[0mjson\u001b[0m\u001b[0;34m\u001b[0m\u001b[0;34m\u001b[0m\u001b[0m\n\u001b[1;32m      2\u001b[0m \u001b[0mdefault_parameters\u001b[0m \u001b[0;34m=\u001b[0m \u001b[0;34m\"../frankenstein/default_parameters.json\"\u001b[0m\u001b[0;34m\u001b[0m\u001b[0;34m\u001b[0m\u001b[0m\n\u001b[0;32m----> 3\u001b[0;31m \u001b[0margs\u001b[0m\u001b[0;34m,\u001b[0m \u001b[0mmodel\u001b[0m \u001b[0;34m=\u001b[0m \u001b[0mparse_parameters\u001b[0m\u001b[0;34m(\u001b[0m\u001b[0;34m)\u001b[0m\u001b[0;34m\u001b[0m\u001b[0;34m\u001b[0m\u001b[0m\n\u001b[0m",
      "\u001b[0;31mTypeError\u001b[0m: parse_parameters() missing 1 required positional argument: 'parameter_file'"
     ]
    }
   ],
   "source": [
    "import json\n",
    "default_parameters = \"../frankenstein/default_parameters.json\"\n",
    "args, model = parse_parameters()"
   ]
  },
  {
   "cell_type": "markdown",
   "metadata": {},
   "source": [
    "## 2. Determinine the disc geometry and deproject the visibilities"
   ]
  },
  {
   "cell_type": "markdown",
   "metadata": {},
   "source": [
    "Before fitting the radial brightness profile, we need to determine the disc's geometry (inclination, position angle and phase center) in order to deproject the visibilities (frank, fitting in 1D, assumes an axisymmetric source).\n",
    "To do this we pass an object specifying how the geometry is determined to the [FrankFitter](https://github.com/discsim/frankenstein/blob/master/docs/_build/html/py_API.html#frankenstein.radial_fitters.FrankFitter) class.\n",
    "\n",
    "frank has two classes for this: [FixedGeometry](https://github.com/discsim/frankenstein/blob/master/docs/_build/html/py_API.html#frankenstein.geometry.FixedGeometry) just takes a geometry you provide, while [FitGeometryGaussian](https://github.com/discsim/frankenstein/blob/master/docs/_build/html/py_API.html#frankenstein.geometry.FitGeometryGaussian) determines the geometry by fitting a 2D Gaussian directly to the visibilities. For the latter you can also choose to provide a known phase center if you just want to fit for the inclination and PA."
   ]
  },
  {
   "cell_type": "markdown",
   "metadata": {},
   "source": [
    "### Adding your own geometry fit routine"
   ]
  },
  {
   "cell_type": "markdown",
   "metadata": {},
   "source": [
    "You can extend frank's geometry fitting capabilities with your own routines by writing a class that inherits from the [SourceGeometry](https://github.com/discsim/frankenstein/blob/master/docs/_build/html/py_API.html#frankenstein.geometry.SourceGeometry) base class. This base class provides the interface used by frank to deproject the visibilities, but you do need to implement your own [fit()](https://github.com/discsim/frankenstein/blob/master/docs/_build/html/py_API.html#frankenstein.geometry.SourceGeometry.fit) method. This method will be called internally by [FrankFitter](https://github.com/discsim/frankenstein/blob/master/docs/_build/html/py_API.html#frankenstein.radial_fitters.FrankFitter) to determine the geometry.\n",
    "\n",
    "The [fit()](https://github.com/discsim/frankenstein/blob/master/docs/_build/html/py_API.html#frankenstein.geometry.SourceGeometry.fit) method should set the attributes `_inc`,  `_PA`, `_dRA`, and `_dDec`, which are used by the\n",
    "[apply_correction()](https://github.com/discsim/frankenstein/blob/master/docs/_build/html/py_API.html#frankenstein.geometry.SourceGeometry.apply_correction),\n",
    "[undo_correction()](https://github.com/discsim/frankenstein/blob/master/docs/_build/html/py_API.html#frankenstein.geometry.SourceGeometry.undo_correction),\n",
    "[deproject()](https://github.com/discsim/frankenstein/blob/master/docs/_build/html/py_API.html#frankenstein.geometry.SourceGeometry.deproject),\n",
    "and\n",
    "[reproject()](https://github.com/discsim/frankenstein/blob/master/docs/_build/html/py_API.html#frankenstein.geometry.SourceGeometry.reproject) methods."
   ]
  },
  {
   "cell_type": "markdown",
   "metadata": {},
   "source": [
    "## 3. Fit the deprojected visibilities for the brightness profile"
   ]
  },
  {
   "cell_type": "markdown",
   "metadata": {},
   "source": [
    "Objects used to perform a fit are in the [FrankFitter](https://github.com/discsim/frankenstein/blob/master/docs/_build/html/py_API.html#frankenstein.radial_fitters.FrankFitter) class. The main parameters are: `Rmax` and `N`, controlling the disc radius out to which the fit is performed and the number of collocation points used in the fit; and the `geometry` object detailed [above](using_frank_as_library.ipynb#2.-Determinine-the-disc-geometry-and-deproject-the-data). The hyperprior is controlled through the parameters `alpha`, `p_0` and `smooth`.\n",
    "\n",
    "frank performs a fit with the [FrankFitter](https://github.com/discsim/frankenstein/blob/master/docs/_build/html/py_API.html#frankenstein.radial_fitters.FrankFitter) class' [fit()](https://github.com/discsim/frankenstein/blob/master/docs/_build/html/py_API.html#frankenstein.radial_fitters.FrankFitter.fit) function."
   ]
  },
  {
   "cell_type": "markdown",
   "metadata": {},
   "source": [
    "## 4. Save the results and generate plots"
   ]
  },
  {
   "cell_type": "markdown",
   "metadata": {},
   "source": [
    "Once the fit is complete the best fit parameters are returned and stored in the [FrankFitter](https://github.com/discsim/frankenstein/blob/master/docs/_build/html/py_API.html#frankenstein.radial_fitters.FrankFitter) class' [MAP_solution](https://github.com/discsim/frankenstein/blob/master/docs/_build/html/py_API.html#frankenstein.radial_fitters.FrankFitter.MAP_solution) attribute. \n",
    "The fit is returned as a [_HankelRegressor](https://github.com/discsim/frankenstein/blob/master/docs/_build/html/py_API.html#frankenstein.radial_fitters._HankelRegressor) object, which provides the posterior [mean](https://github.com/discsim/frankenstein/blob/master/docs/_build/html/py_API.html#frankenstein.radial_fitters._HankelRegressor.mean), [covariance](https://github.com/discsim/frankenstein/blob/master/docs/_build/html/py_API.html#frankenstein.radial_fitters._HankelRegressor.covariance), and [power_spectrum](https://github.com/discsim/frankenstein/blob/master/docs/_build/html/py_API.html#frankenstein.radial_fitters._HankelRegressor.power_spectrum), as well as the fit's radius points [r](https://github.com/discsim/frankenstein/blob/master/docs/_build/html/py_API.html#frankenstein.radial_fitters._HankelRegressor.r) and corresponding frequency points [q](https://github.com/discsim/frankenstein/blob/master/docs/_build/html/py_API.html#frankenstein.radial_fitters._HankelRegressor.q). \n",
    "\n",
    "The solution object also provides methods to compute the best fit model's visibilities with [predict](https://github.com/discsim/frankenstein/blob/master/docs/_build/html/py_API.html#frankenstein.radial_fitters._HankelRegressor.predict) and to evaluate its [log_likelihood](https://github.com/discsim/frankenstein/blob/master/docs/_build/html/py_API.html#frankenstein.radial_fitters._HankelRegressor.log_likelihood)."
   ]
  },
  {
   "cell_type": "markdown",
   "metadata": {},
   "source": [
    "A simple figure showing the fitted brightness profile, fitted visibility distribution and power spectrum reconstruction,\n",
    "\n",
    "We could also use [CASA](https://casa.nrao.edu) to CLEAN (thereby convolving with the synthesized beam) the `frank` fit image to compare with the CLEAN model image."
   ]
  },
  {
   "cell_type": "code",
   "execution_count": null,
   "metadata": {},
   "outputs": [],
   "source": [
    "# Enables plotting of negative data on a log-scale\n",
    "def plot_log_abs(x, y, **kwargs):\n",
    "    c = plt.loglog(x, y, **kwargs)[0].get_color()\n",
    "    \n",
    "    kwargs = dict(kwargs) \n",
    "    kwargs['c'] = c\n",
    "    kwargs['label'] = None\n",
    "    plt.loglog(x, -y, ls='--', **kwargs)\n",
    "\n",
    "def bin_uv_data(baselines, vis, weights, Nbins=512, recompute_weights=True):\n",
    "    \"\"\"\n",
    "    Group the uv-data into bins.\n",
    "    \n",
    "    Parameters\n",
    "    ----------\n",
    "    baslines : 1D array,\n",
    "        uv points (i.e. np.hypot(u,v))\n",
    "    vis : 1D array,\n",
    "        Visibility data\n",
    "    weights : 1D array,\n",
    "        Weights on the visibility data\n",
    "    Nbins : int, default = 512\n",
    "        Number of equally spaced in log bins to use.\n",
    "    recompute_weights : bool, default = True\n",
    "        If true, the weights will be recomputed for the number of points\n",
    "        and variance in each bin. Otherwise the weight will be the sum of\n",
    "        the weights for the points in each bin.\n",
    "    \n",
    "    Returns\n",
    "    -------\n",
    "    kbins : 1D array\n",
    "        Centre of each uv-bin.\n",
    "    bin_obs : 1D array\n",
    "        Binned visibilites.\n",
    "    bin_weights : 1D array,\n",
    "        Binned weights.\n",
    "        \n",
    "    \"\"\"\n",
    "    log_lam = np.log(baselines)\n",
    "\n",
    "    cnt, edges = np.histogram(log_lam, bins=Nbins)\n",
    "    bin_wgt, _ = np.histogram(log_lam, bins=Nbins, weights=weights)\n",
    "    bin_obs, _ = np.histogram(log_lam, bins=Nbins, weights=weights*vis)\n",
    "    bin_ob2, _ = np.histogram(log_lam, bins=Nbins, weights=weights*vis**2)\n",
    "    bin_lam, _ = np.histogram(log_lam, bins=Nbins, weights=weights*baselines)\n",
    "\n",
    "    idx = cnt > 0\n",
    "    bin_obs[idx] /= bin_wgt[idx]\n",
    "    bin_ob2[idx] /= bin_wgt[idx]\n",
    "    bin_lam[idx] /= bin_wgt[idx]\n",
    "\n",
    "    if recompute_weights:\n",
    "        idx = cnt > 1\n",
    "        bin_wgt[idx] = (cnt[idx]-1) / (bin_ob2[idx] - bin_obs[idx]**2)\n",
    "\n",
    "    # Clear empty bins\n",
    "    idx = bin_wgt > 0\n",
    "    bin_lam, bin_obs, bin_wgt = map(lambda x: x[idx], [bin_lam, bin_obs, bin_wgt])\n",
    "        \n",
    "    return bin_lam, bin_obs, bin_wgt"
   ]
  },
  {
   "cell_type": "code",
   "execution_count": null,
   "metadata": {},
   "outputs": [],
   "source": [
    "uv_AS209_DHSARP = np.load('AS209_continuum.npz')"
   ]
  },
  {
   "cell_type": "markdown",
   "metadata": {},
   "source": [
    "Load the radial profile. We store it in an object for convenience"
   ]
  },
  {
   "cell_type": "code",
   "execution_count": null,
   "metadata": {},
   "outputs": [],
   "source": [
    "class InterpolatedDSHARPProfile(object):\n",
    "    \"\"\"Wrapper for the DSHARP radial profile text files\"\"\"\n",
    "    def __init__(self, data_file, frequency):\n",
    "        data = np.genfromtxt(data_file, unpack=True)\n",
    "\n",
    "        r, T = data[1], data[4]\n",
    "\n",
    "        wave = 299792458.0 / frequency\n",
    "\n",
    "        I = 2 * 1.3806503e-23 * T  / wave**2\n",
    "        I *= 1e26\n",
    "\n",
    "        r /= rad_to_arcsec\n",
    "            \n",
    "        self.r = r\n",
    "        self.Inu = I\n",
    " \n",
    "AS209_profile = InterpolatedDSHARPProfile('AS_209_profile.dat', frequency=239e9)\n",
    "\n",
    "plt.plot(AS209_profile.r*rad_to_arcsec, AS209_profile.Inu)\n",
    "plt.xlabel('R [arcsec]')\n",
    "plt.ylabel('I [Jy Sr^-1]')\n",
    "plt.title('CLEAN profile for AS 209')"
   ]
  },
  {
   "cell_type": "markdown",
   "metadata": {},
   "source": [
    "## Next we need to deproject the dataset\n",
    "\n",
    "Since AS 209 is not face on we need to de-project the disc before we can fit using an axis-symmetric model. We will do that by fitting a gaussian in visibility space."
   ]
  },
  {
   "cell_type": "code",
   "execution_count": null,
   "metadata": {},
   "outputs": [],
   "source": [
    "from frankenstein.geometry import fit_geometry_gaussian, SourceGeometry\n",
    "\n",
    "fitted_geometry = fit_geometry_gaussian(u,v,vis,weights)\n",
    "\n",
    "print(\"Fitted geometry:\")\n",
    "print(\"\\tPA, inclination (deg):\\t\\t {:.3f} {:.3f}\".format(fitted_geometry.PA*180/np.pi, fitted_geometry.inc*180/np.pi))\n",
    "print(\"\\tPhase centre, dRA, dDec (mas):\\t {:.3f} {:3f}\".format(1e3*fitted_geometry.dRA, 1e3*fitted_geometry.dDec))\n"
   ]
  },
  {
   "cell_type": "markdown",
   "metadata": {},
   "source": [
    "The fit can also be performed without fitting for the phase centre:"
   ]
  },
  {
   "cell_type": "code",
   "execution_count": null,
   "metadata": {},
   "outputs": [],
   "source": [
    "fitted_geometry2 = fit_geometry_gaussian(u,v,vis,weights, phase_centre=(0,0))\n",
    "\n",
    "print(\"Fitted geometry:\")\n",
    "print(\"\\tPA, inclination (deg):\\t\\t {:.3f} {:.3f}\".format(fitted_geometry2.PA*180/np.pi, fitted_geometry2.inc*180/np.pi))\n",
    "print(\"\\tPhase centre, dRA, dDec (mas):\\t {:.3f} {:.3f}\".format( 1e3*fitted_geometry2.dRA, 1e3*fitted_geometry2.dDec))"
   ]
  },
  {
   "cell_type": "markdown",
   "metadata": {},
   "source": [
    "Since these fitted results agree with the published values, we will use those"
   ]
  },
  {
   "cell_type": "code",
   "execution_count": null,
   "metadata": {},
   "outputs": [],
   "source": [
    "geometry = SourceGeometry(dRA=1.9e-3, dDec=-2.5e-3, inc=34.97*np.pi/180, PA=85.76*np.pi/180)\n",
    "\n",
    "ub, vb, Vb = geometry.apply_correction(u,v, vis)\n",
    "\n",
    "#Plot a subset of the uv-points before and after de-projecion:\n",
    "plt.plot(u[::10],v[::10], 'r+', label='before')\n",
    "plt.plot(ub[::10],vb[::10], 'bx', label='after')\n",
    "plt.legend()\n",
    "plt.title('Visibility deprojection')\n",
    "\n",
    "# Make a binned version of the de-projected data\n",
    "uv_bin, vis_bin, w_bin = bin_uv_data(np.hypot(ub,vb), Vb.real, weights)\n",
    "\n",
    "plt.figure()\n",
    "plt.loglog(uv_bin, +vis_bin.real, 'r+',label='positive')\n",
    "plt.loglog(uv_bin, -vis_bin.real, 'bx',label='negative')\n",
    "plt.legend()\n",
    "plt.xlabel('baseline [$\\lambda$]')\n",
    "plt.ylabel('$V(\\lambda)$ [Jy]')\n",
    "plt.title('Binned visibilites')\n"
   ]
  },
  {
   "cell_type": "markdown",
   "metadata": {},
   "source": [
    "## Now we fit the data\n",
    "\n",
    "From the radial profile we know that the emission is close to zero beyond 1.6 arcsec, so lets fit to there.\n",
    "\n",
    "Also use 300 bins, $\\alpha=1.05$ and $w_s = 1/\\sigma_s^2 = 0.01$\n",
    "\n",
    "Note that we only fit the real component of the visibilities as an axi-symmetric source has zero imaginary component"
   ]
  },
  {
   "cell_type": "code",
   "execution_count": null,
   "metadata": {},
   "outputs": [],
   "source": [
    "from frankenstein import FrankFitter\n",
    "\n",
    "Rmax = 1.6/rad_to_arcsec\n",
    "\n",
    "FF = FrankFitter(Rmax, 300, geometry=geometry, alpha=1.05, weights_smooth=1e-2)\n",
    "\n",
    "best_fit = FF.fit(u, v, vis, weights)"
   ]
  },
  {
   "cell_type": "markdown",
   "metadata": {},
   "source": [
    "Let's plot the fit in real space and compare to CLEAN."
   ]
  },
  {
   "cell_type": "code",
   "execution_count": null,
   "metadata": {},
   "outputs": [],
   "source": [
    "plt.figure(figsize=(10,6))\n",
    "\n",
    "plt.plot(best_fit.r*rad_to_arcsec, best_fit.mean, 'k', label='Frankenstein fit')\n",
    "\n",
    "# Plot an estimate of the confidence interval using the covariance matrix\n",
    "err = np.diag(best_fit.covariance)**0.5\n",
    "plt.fill_between( best_fit.r*rad_to_arcsec, best_fit.mean-err, best_fit.mean+err, color='k', alpha=0.5)\n",
    "   \n",
    "# Plot the CLEAN profile\n",
    "plt.plot(AS209_profile.r*rad_to_arcsec, AS209_profile.Inu, 'r', label='CLEAN')\n",
    "    \n",
    "plt.xlabel('r [arcsec]')\n",
    "plt.ylabel('I(r) [Jy / arcsec${^2}$]')\n",
    "plt.axhline(0, c='0.5', ls='--')\n",
    "plt.xlim(0, 1.6)\n",
    "plt.legend()\n",
    "\n",
    "# Plot in logspace\n",
    "plt.figure(figsize=(10,6))\n",
    "\n",
    "plot_log_abs(best_fit.r*rad_to_arcsec, best_fit.mean, c='k', label='Frankenstein fit')\n",
    "plt.fill_between(best_fit.r*rad_to_arcsec, best_fit.mean-err, best_fit.mean+err, color='k', alpha=0.5)\n",
    "\n",
    "plot_log_abs(AS209_profile.r*rad_to_arcsec, AS209_profile.Inu, c='r', label='CLEAN')\n",
    "\n",
    "plt.xlabel('r [arcsec]')\n",
    "plt.ylabel('I(r) [Jy / arcsec${^2}$]')\n",
    "plt.ylim(ymin=3e-4*best_fit.mean.max())\n",
    "plt.xscale('linear')\n",
    "plt.xlim(0, 1.6)\n",
    "plt.legend()"
   ]
  },
  {
   "cell_type": "markdown",
   "metadata": {},
   "source": [
    "Now let's compare the visibilities. Note the Hankel Transform of the CLEAN profile is low beyond $2\\times 10^6 \\lambda$ because of beam convolution."
   ]
  },
  {
   "cell_type": "code",
   "execution_count": null,
   "metadata": {},
   "outputs": [],
   "source": [
    "# Plot the visibilies\n",
    "plt.figure(figsize=(10,6))\n",
    "l = plt.errorbar(uv_bin, vis_bin, yerr=w_bin**-0.5,marker='+', ls='none', c='r', label='binned', zorder=-1)\n",
    "plt.errorbar(uv_bin, -vis_bin, yerr=w_bin**-0.5,marker='x', ls='none', c='b', zorder=-1)\n",
    "\n",
    "uv = np.hypot(u, v)\n",
    "ki = np.logspace(np.log10(min(uv.min(), best_fit.q[ 0])) - 0.3, \n",
    "                 np.log10(max(uv.max(), best_fit.q[-1])) + 0.0,\n",
    "                 10**4)\n",
    "\n",
    "plot_log_abs(ki, best_fit.predict_deprojected(ki), c='k', label='Frankenstein')\n",
    "\n",
    "# Plot also the predicted visibilities of the CLEAN image\n",
    "from frankenstein.hankel import DiscreteHankelTransform\n",
    "dht = DiscreteHankelTransform(Rmax,300)\n",
    "plot_log_abs(ki, \n",
    "             best_fit.predict_deprojected(ki, \n",
    "                                     I=np.interp(dht.r, \n",
    "                                                 AS209_profile.r, \n",
    "                                                 AS209_profile.Inu)),\n",
    "             c='r', label='CLEAN')\n",
    "\n",
    "plt.legend()\n",
    "plt.xlabel('baseline [$\\lambda$]')\n",
    "plt.ylabel('Visibility [Jy]')\n",
    "plt.ylim(ymin=1e-5)"
   ]
  }
 ],
 "metadata": {
  "anaconda-cloud": {},
  "kernelspec": {
   "display_name": "Python [default]",
   "language": "python",
   "name": "python3"
  },
  "language_info": {
   "codemirror_mode": {
    "name": "ipython",
    "version": 3
   },
   "file_extension": ".py",
   "mimetype": "text/x-python",
   "name": "python",
   "nbconvert_exporter": "python",
   "pygments_lexer": "ipython3",
   "version": "3.6.7"
  },
  "pycharm": {
   "stem_cell": {
    "cell_type": "raw",
    "metadata": {
     "collapsed": false
    },
    "source": []
   }
  }
 },
 "nbformat": 4,
 "nbformat_minor": 2
}
