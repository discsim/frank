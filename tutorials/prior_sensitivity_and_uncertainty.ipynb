{
 "cells": [
  {
   "cell_type": "markdown",
   "metadata": {},
   "source": [
    "# Assessing the uncertainty on a fit"
   ]
  },
  {
   "cell_type": "markdown",
   "metadata": {},
   "source": [
    "Here we'll use the AS 209 dataset from the [first tutorial](using_frank_as_library.ipynb) to analyze and discuss the model's typical underestimate of the recovered profile's uncertainty. "
   ]
  },
  {
   "cell_type": "code",
   "execution_count": 1,
   "metadata": {},
   "outputs": [],
   "source": [
    "%matplotlib inline"
   ]
  },
  {
   "cell_type": "code",
   "execution_count": 2,
   "metadata": {},
   "outputs": [],
   "source": [
    "import frankenstein as frank"
   ]
  },
  {
   "cell_type": "markdown",
   "metadata": {},
   "source": [
    "\n",
    "### Damping of high frequency variations\n",
    "The second noticeable difference is that the first fit has much lower amplitude at long baseline. This is because the higher $\\alpha$, while still only midly above unity, means that the prior on $p$ is peaked at low amplitude ($p_0 = 10^{-15}$). Since the signal to noise is poor at large long baseline, $p$ is dominated by the prior. This has two effects on the reconstructed profile: 1) high frequency variations are damped and 2) the quoted uncertainty is small.\n",
    "\n",
    "The damping of high frequency variations is easily understood because the power-spectum is the prior on the reconstructed brightness. The low uncertainty arises because the uncertainty is also determined by power-spectrum in regions of poor signal-to-noise. \n",
    "\n",
    "At this stage, we note that one can try to get an increased uncertainty on the first best_fitution by factoring in the uncertainty on the power-spectrum parameters, which are essentiallly unconstrained by the data (FrankFitter provides a method to draw sets of $p$ from a log-normal approximation to the posterior for $p$). However, little is to be gained from this because the choice of prior, because $\\alpha = 1.05$ is sufficiently constraining that $p$ at large $\\lambda$ never reaches high enough amplitude.\n",
    "\n",
    "### A better uncertainty estimate\n",
    "However, all is not lost. The second model produces a more reasonable estimate of the true uncertainty on the profile due to the missing data at long baseline. In the second model the choice of $\\alpha = 1.0$ does not prejudice against variations on scales where there is no data - the prior is flat in log-space. However, the use of strong smoothing, $w_s = 1$, constrains the power-spectrum to be close to a power-law. This provides a sensible extrapolation to long baselines and thus prior on the reconstructed brightness includes a sensible esimtate for the uncertainty on these scales.\n",
    "\n",
    "The resulting profile from the second fit thus has a better estimate of the uncertainty. However, this has come with the cost of fitting the high frequency data that is dominated by noise.\n",
    "\n",
    "### Caution!\n",
    "Varying the different parameters associated with the fit offers a way to estimate the error in the reconstructed profile - both by examining how senstive the fit is to the choice of these parameters and by choosing parameters that provide a sensible error estimate.\n",
    "\n",
    "Even so, all of the reconstructed profiles produce a negative intensity in the first gap, and none of the uncertainty regions overlap zero. Since the negative brightness is very likely to be wrong, this points to a remaining systematic uncertainty that is still not accounted for."
   ]
  },
  {
   "cell_type": "code",
   "execution_count": 3,
   "metadata": {},
   "outputs": [
    {
     "name": "stdout",
     "output_type": "stream",
     "text": [
      "Some Junk\n"
     ]
    }
   ],
   "source": [
    "print(\"Some Junk\")"
   ]
  }
 ],
 "metadata": {
  "kernelspec": {
   "display_name": "Python [default]",
   "language": "python",
   "name": "python3"
  },
  "language_info": {
   "codemirror_mode": {
    "name": "ipython",
    "version": 3
   },
   "file_extension": ".py",
   "mimetype": "text/x-python",
   "name": "python",
   "nbconvert_exporter": "python",
   "pygments_lexer": "ipython3",
   "version": "3.6.7"
  },
  "pycharm": {
   "stem_cell": {
    "cell_type": "raw",
    "metadata": {
     "collapsed": false
    },
    "source": []
   }
  }
 },
 "nbformat": 4,
 "nbformat_minor": 2
}
