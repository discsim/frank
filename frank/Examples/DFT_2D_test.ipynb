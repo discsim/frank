{
 "cells": [
  {
   "cell_type": "code",
   "execution_count": 1,
   "id": "d2808daf-7d75-4451-a75f-d6241049b447",
   "metadata": {},
   "outputs": [],
   "source": [
    "import numpy as np \n",
    "import matplotlib.pyplot as plt\n",
    "\n",
    "from frank.geometry import SourceGeometry\n",
    "from frank.io import load_uvtable\n",
    "from frank.radial_fitters import FrankFitter, FourierBesselFitter"
   ]
  },
  {
   "cell_type": "code",
   "execution_count": 2,
   "id": "ad28005e-bbd1-467f-918d-ba165010fdcd",
   "metadata": {},
   "outputs": [],
   "source": [
    "# Data source AS209 1mm visibilities gridded\n",
    "\n",
    "rad_to_arcsec = 3600 * 180 / np.pi\n",
    "\n",
    "# Huang 2018 \n",
    "inc = 34.97\n",
    "pa = 85.76\n",
    "dra = 1.9e-3\n",
    "ddec = -2.5e-3\n",
    "r_out = 1.9\n",
    "\n",
    "# Frank Parameters\n",
    "N = 25\n",
    "\n",
    "# UVtable AS209 at 1mm.\n",
    "dir = \"../data/\"\n",
    "data_file = dir +'AS209_continuum_prom_1chan_30s_keepflagsFalse_gridded.txt'\n",
    "\n",
    " # load data\n",
    "u, v, Vis, Weights = np.loadtxt(data_file, unpack = True)\n",
    "\n",
    "geom = SourceGeometry(inc= inc, PA= pa, dRA= dra, dDec= ddec)"
   ]
  },
  {
   "cell_type": "code",
   "execution_count": 3,
   "id": "73f358c0-3cf8-4d59-91f3-0521e4531332",
   "metadata": {},
   "outputs": [
    {
     "name": "stdout",
     "output_type": "stream",
     "text": [
      "--- 1.0607250668108463 minutes ---\n"
     ]
    }
   ],
   "source": [
    "#FF = FrankFitter(1.9, 300, geom, alpha = alpha, weights_smooth = w_smooth)\n",
    "import time\n",
    "start_time = time.time()\n",
    "FF = FourierBesselFitter(r_out, N, geom)\n",
    "sol_new = FF.fit(u, v, Vis, Weights)\n",
    "print(\"--- %s minutes ---\" % (time.time()/60 - start_time/60))"
   ]
  },
  {
   "cell_type": "code",
   "execution_count": 4,
   "id": "9282d1fc-9737-4220-a98a-a9d8c4b5527f",
   "metadata": {},
   "outputs": [
    {
     "data": {
      "text/plain": [
       "625"
      ]
     },
     "execution_count": 4,
     "metadata": {},
     "output_type": "execute_result"
    }
   ],
   "source": [
    "len(sol_new.mean) # we corroborate the desire output has 25x25 points."
   ]
  },
  {
   "cell_type": "code",
   "execution_count": 5,
   "id": "4477675b-c2be-4b9f-98e1-f304651ae07d",
   "metadata": {},
   "outputs": [],
   "source": [
    "dx = dy =  2*r_out/(N**2*rad_to_arcsec)"
   ]
  },
  {
   "cell_type": "code",
   "execution_count": 6,
   "id": "f77e0303-e08f-4721-bcb5-00176c97dc13",
   "metadata": {},
   "outputs": [],
   "source": [
    "I = sol_new.mean.real/(dx*dy)"
   ]
  },
  {
   "cell_type": "code",
   "execution_count": 7,
   "id": "c02b56ae-29b5-43fe-8bdd-e7040cafec5f",
   "metadata": {},
   "outputs": [],
   "source": [
    "def reshape(array, N):\n",
    "    matrix = np.zeros((N, N), dtype=array.dtype)\n",
    "\n",
    "    # Fill the matrix from bottom to top by columns\n",
    "    for i in range(N):\n",
    "        matrix[:, i] = array[i * N:(i + 1) * N][::-1]\n",
    "    return matrix"
   ]
  },
  {
   "cell_type": "code",
   "execution_count": 8,
   "id": "a6f7e7c6-5819-44e9-a972-1c03be14e169",
   "metadata": {},
   "outputs": [],
   "source": [
    "I_reshape = reshape(I, N)"
   ]
  },
  {
   "cell_type": "code",
   "execution_count": 9,
   "id": "752cdafd-5775-41f6-a7bd-ad6825cdd767",
   "metadata": {},
   "outputs": [
    {
     "data": {
      "text/plain": [
       "<Figure size 1500x1500 with 0 Axes>"
      ]
     },
     "metadata": {},
     "output_type": "display_data"
    },
    {
     "data": {
      "image/png": "[encoded data removed]",
      "text/plain": [
       "<Figure size 480x480 with 2 Axes>"
      ]
     },
     "metadata": {},
     "output_type": "display_data"
    }
   ],
   "source": [
    "plt.figure(figsize=(15, 15))\n",
    "plt.matshow(I_reshape, cmap=\"magma\")\n",
    "cmap = plt.colorbar()\n",
    "cmap.set_label(r'I [Jy $sr^{-1}$]', size = 15)\n",
    "plt.show()"
   ]
  },
  {
   "cell_type": "code",
   "execution_count": null,
   "id": "88ed2e6c-5234-420d-a66a-48a5a7425ff5",
   "metadata": {},
   "outputs": [],
   "source": []
  }
 ],
 "metadata": {
  "kernelspec": {
   "display_name": "PROD_Frank2DVenv",
   "language": "python",
   "name": "prod_frank2dvenv"
  },
  "language_info": {
   "codemirror_mode": {
    "name": "ipython",
    "version": 3
   },
   "file_extension": ".py",
   "mimetype": "text/x-python",
   "name": "python",
   "nbconvert_exporter": "python",
   "pygments_lexer": "ipython3",
   "version": "3.8.5"
  }
 },
 "nbformat": 4,
 "nbformat_minor": 5
}
